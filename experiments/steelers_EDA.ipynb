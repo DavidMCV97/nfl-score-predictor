{
 "cells": [
  {
   "cell_type": "markdown",
   "id": "0",
   "metadata": {},
   "source": [
    "# Steelers EDA"
   ]
  },
  {
   "cell_type": "markdown",
   "id": "1",
   "metadata": {},
   "source": [
    "Thinking that maybe is a better idea to focus on each team individualy, we will first focus on Steelers."
   ]
  },
  {
   "cell_type": "code",
   "execution_count": null,
   "id": "2",
   "metadata": {},
   "outputs": [],
   "source": [
    "# numerical libraries\n",
    "import pandas as pd\n",
    "import numpy as np\n",
    "from datetime import datetime\n",
    "\n",
    "# graph libraries\n",
    "import matplotlib.pyplot as plt\n",
    "\n",
    "# configs\n",
    "pd.set_option('display.max_columns', None)\n",
    "\n",
    "# paths\n",
    "file_path = '../datasets/games.csv'"
   ]
  },
  {
   "cell_type": "code",
   "execution_count": null,
   "id": "3",
   "metadata": {},
   "outputs": [],
   "source": [
    "# import raw data\n",
    "games_df_raw = pd.read_csv(file_path)\n",
    "\n",
    "# select pitsbourgh data\n",
    "steelers_df_raw = games_df_raw[(games_df_raw['home_team'] == 'PIT')|(games_df_raw['away_team'] == 'PIT')].copy()\n",
    "\n",
    "# create the steelers dataframe with info of previous years\n",
    "steelers_df = steelers_df_raw[steelers_df_raw['season'] < 2025].copy()\n",
    "\n",
    "# season 1999 has no gametime, so we remove it\n",
    "steelers_df = steelers_df[steelers_df['season'] > 1999].reset_index(drop=True)\n",
    "\n",
    "# adjust datatype to date\n",
    "steelers_df['gameday'] = pd.to_datetime(steelers_df['gameday'])\n",
    "\n",
    "# add a variable: focus team\n",
    "steelers_df['focus_team'] = 'PIT'\n",
    "\n",
    "# add variable: status\n",
    "steelers_df['focus_team_status'] = np.where(steelers_df['home_team'] == 'PIT','home','away')\n",
    "\n",
    "# add a variable: vs team\n",
    "steelers_df['versus_team'] = np.where(steelers_df['home_team'] == 'PIT', steelers_df['away_team'], steelers_df['home_team'])\n",
    "\n",
    "# add variables: winner\n",
    "steelers_df['focus_team_score'] = np.where(steelers_df['focus_team_status'] == 'home', steelers_df['home_score'], steelers_df['away_score'])\n",
    "steelers_df['versus_team_score'] = np.where(steelers_df['focus_team_status'] == 'away', steelers_df['home_score'], steelers_df['away_score'])\n",
    "steelers_df['winner'] = np.where(steelers_df['focus_team_score'] > steelers_df['versus_team_score'],1,0)\n",
    "\n",
    "# add variables: coaches\n",
    "steelers_df['focus_team_coach'] = np.where(steelers_df['focus_team_status'] == 'home', steelers_df['home_coach'], steelers_df['away_coach'])\n",
    "steelers_df['versus_team_coach'] = np.where(steelers_df['focus_team_status'] == 'away', steelers_df['home_coach'], steelers_df['away_coach'])\n",
    "\n",
    "# selection of columns\n",
    "steelers_df = steelers_df[['game_id', 'focus_team', 'focus_team_status', 'versus_team', \n",
    "                           'focus_team_score', 'versus_team_score', 'winner', 'focus_team_coach', \n",
    "                           'versus_team_coach', 'season', 'game_type', 'gameday', \n",
    "                           'gametime', 'stadium']]\n"
   ]
  },
  {
   "cell_type": "code",
   "execution_count": null,
   "id": "4",
   "metadata": {},
   "outputs": [],
   "source": [
    "# graphs of last 3 seasons\n",
    "fig, axes = plt.subplots(3, 1, figsize=(12, 10))\n",
    "años = [2024, 2023, 2022]\n",
    "\n",
    "for i, año in enumerate(años):\n",
    "    df_año = steelers_df[steelers_df['season'] == año]\n",
    "    axes[i].plot(df_año['gameday'], df_año['focus_team_score'], marker='o', label='Steelers points')\n",
    "    axes[i].plot(df_año['gameday'], df_año['versus_team_score'], marker='o', label='Oponent points')\n",
    "    axes[i].set_title(f'{año} season')\n",
    "    axes[i].legend()\n",
    "    axes[i].grid(True)\n",
    "\n",
    "plt.show()\n"
   ]
  },
  {
   "cell_type": "markdown",
   "id": "5",
   "metadata": {},
   "source": [
    "Here I create two columns with information of the team and the previous 10 games."
   ]
  },
  {
   "cell_type": "code",
   "execution_count": null,
   "id": "6",
   "metadata": {},
   "outputs": [],
   "source": [
    "for i in range(10,len(steelers_df)):\n",
    "    steelers_df.loc[i,'focus_team_ltg_wins'] = sum(steelers_df.loc[range(i-10,i),'winner'])\n",
    "    steelers_df.loc[i,'focus_team_ltg_score'] = sum(steelers_df.loc[range(i-10,i),'focus_team_score'])"
   ]
  },
  {
   "cell_type": "code",
   "execution_count": null,
   "id": "7",
   "metadata": {},
   "outputs": [],
   "source": [
    "# graphs of last 3 seasons\n",
    "fig, axes = plt.subplots(3, 1, figsize=(12, 10))\n",
    "años = [2024, 2023, 2022]\n",
    "\n",
    "for i, año in enumerate(años):\n",
    "    df_año = steelers_df[steelers_df['season'] == año]\n",
    "    axes[i].plot(df_año['gameday'], df_año['focus_team_ltg_wins'], marker='o', label='Steelers')\n",
    "    axes[i].set_title(f'last 10 games wins in {año} season')\n",
    "    axes[i].legend()\n",
    "    axes[i].grid(True)\n",
    "\n",
    "plt.show()"
   ]
  },
  {
   "cell_type": "code",
   "execution_count": null,
   "id": "8",
   "metadata": {},
   "outputs": [],
   "source": [
    "# graphs of last 3 seasons\n",
    "fig, axes = plt.subplots(3, 1, figsize=(12, 10))\n",
    "años = [2024, 2023, 2022]\n",
    "\n",
    "for i, año in enumerate(años):\n",
    "    df_año = steelers_df[steelers_df['season'] == año]\n",
    "    axes[i].plot(df_año['gameday'], df_año['focus_team_ltg_score'], marker='o', label='Steelers')\n",
    "    axes[i].set_title(f'last 10 games wins in {año} season')\n",
    "    axes[i].legend()\n",
    "    axes[i].grid(True)\n",
    "\n",
    "plt.show()"
   ]
  }
 ],
 "metadata": {
  "kernelspec": {
   "display_name": ".venv",
   "language": "python",
   "name": "python3"
  },
  "language_info": {
   "codemirror_mode": {
    "name": "ipython",
    "version": 3
   },
   "file_extension": ".py",
   "mimetype": "text/x-python",
   "name": "python",
   "nbconvert_exporter": "python",
   "pygments_lexer": "ipython3",
   "version": "3.12.0"
  }
 },
 "nbformat": 4,
 "nbformat_minor": 5
}
