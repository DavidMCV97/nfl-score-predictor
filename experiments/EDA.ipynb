{
 "cells": [
  {
   "cell_type": "markdown",
   "id": "0",
   "metadata": {},
   "source": [
    "# Exploratory Data Analysis\n",
    "\n",
    "I will do a EDA to check necesary cleaning steps."
   ]
  },
  {
   "cell_type": "code",
   "execution_count": null,
   "id": "1",
   "metadata": {},
   "outputs": [],
   "source": [
    "# numerical libraries\n",
    "import pandas as pd\n",
    "\n",
    "# configs\n",
    "pd.set_option('display.max_columns', None)\n",
    "\n",
    "# paths\n",
    "file_path = '../datasets/games.csv'"
   ]
  },
  {
   "cell_type": "code",
   "execution_count": null,
   "id": "2",
   "metadata": {},
   "outputs": [],
   "source": [
    "# read information\n",
    "games_df_raw = pd.read_csv(file_path)\n",
    "\n",
    "# print basic info\n",
    "games_df_raw.info()"
   ]
  },
  {
   "cell_type": "code",
   "execution_count": null,
   "id": "3",
   "metadata": {},
   "outputs": [],
   "source": [
    "# we delete the 2025 season games as they are incomplete\n",
    "games_df_selection = games_df_raw.drop(games_df_raw[games_df_raw['season'] == 2025].index).copy()\n",
    "\n",
    "# we will asociate a number to each game type, asociated with its importance\n",
    "# 1 = regular season\n",
    "# 2 = wildcard playoff\n",
    "# 3 = divisional round playoff\n",
    "# 4 = conference championship\n",
    "# 5 = super bowl\n",
    "mapper = {'REG':1, 'WC':2, 'DIV':3, 'CON':4, 'SB':5}\n",
    "games_df_selection['game_type_level'] = games_df_selection['game_type'].map(mapper)\n",
    "\n",
    "\n",
    "'''\n",
    "\n",
    "\n",
    "# selection of columns\n",
    "games_df_raw[['game_id', 'season', 'game_type', 'week', 'gameday', 'weekday',\n",
    "       'gametime', 'away_team', 'away_score', 'home_team', 'home_score',\n",
    "       'location', 'result', 'total', 'overtime', 'old_game_id', 'gsis',\n",
    "       'nfl_detail_id', 'pfr', 'pff', 'espn', 'ftn', 'away_rest', 'home_rest',\n",
    "       'away_moneyline', 'home_moneyline', 'spread_line', 'away_spread_odds',\n",
    "       'home_spread_odds', 'total_line', 'under_odds', 'over_odds', 'div_game',\n",
    "       'roof', 'surface', 'temp', 'wind', 'away_qb_id', 'home_qb_id',\n",
    "       'away_qb_name', 'home_qb_name', 'away_coach', 'home_coach', 'referee',\n",
    "       'stadium_id', 'stadium']]\n",
    "''';\n",
    "\n",
    "games_df_selection['game_type_level'].value_counts(sort=False)"
   ]
  },
  {
   "cell_type": "code",
   "execution_count": null,
   "id": "4",
   "metadata": {},
   "outputs": [],
   "source": [
    "games_df_raw['season'].value_counts(sort=False)"
   ]
  }
 ],
 "metadata": {
  "kernelspec": {
   "display_name": ".venv",
   "language": "python",
   "name": "python3"
  },
  "language_info": {
   "codemirror_mode": {
    "name": "ipython",
    "version": 3
   },
   "file_extension": ".py",
   "mimetype": "text/x-python",
   "name": "python",
   "nbconvert_exporter": "python",
   "pygments_lexer": "ipython3",
   "version": "3.12.0"
  }
 },
 "nbformat": 4,
 "nbformat_minor": 5
}
