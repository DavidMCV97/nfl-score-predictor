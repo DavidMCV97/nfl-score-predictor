{
 "cells": [
  {
   "cell_type": "markdown",
   "id": "0",
   "metadata": {},
   "source": [
    "# Exploratory Data Analysis\n",
    "\n",
    "I will do an EDA as continuation of the steelers EDA"
   ]
  },
  {
   "cell_type": "markdown",
   "id": "1",
   "metadata": {},
   "source": [
    "First step: Import libraries and config"
   ]
  },
  {
   "cell_type": "code",
   "execution_count": null,
   "id": "2",
   "metadata": {},
   "outputs": [],
   "source": [
    "# numerical libraries\n",
    "import pandas as pd\n",
    "import numpy as np\n",
    "from datetime import datetime\n",
    "\n",
    "# data handling libraries\n",
    "import yaml\n",
    "\n",
    "# visualization libraries\n",
    "import seaborn as sns\n",
    "\n",
    "# configs\n",
    "pd.set_option('display.max_columns', None)\n",
    "\n",
    "# paths\n",
    "file_path = '../datasets/games.csv'\n",
    "config_path = '../config/config.yaml'"
   ]
  },
  {
   "cell_type": "markdown",
   "id": "3",
   "metadata": {},
   "source": [
    "second step: import data and general adjustments"
   ]
  },
  {
   "cell_type": "code",
   "execution_count": null,
   "id": "4",
   "metadata": {},
   "outputs": [],
   "source": [
    "# import raw data\n",
    "games_df_raw = pd.read_csv(file_path)\n",
    "\n",
    "# we analyze only previous seasons\n",
    "games_df = games_df_raw[games_df_raw['season'] < 2025].copy()\n",
    "\n",
    "# season 1999 has no gametime, so we remove it\n",
    "games_df = games_df[games_df['season'] > 1999].reset_index(drop=True)\n",
    "\n",
    "# adjust datatype to date\n",
    "games_df['gameday'] = pd.to_datetime(games_df['gameday'])"
   ]
  },
  {
   "cell_type": "markdown",
   "id": "5",
   "metadata": {},
   "source": [
    "third step: generate df for each team and concatenate them"
   ]
  },
  {
   "cell_type": "code",
   "execution_count": null,
   "id": "6",
   "metadata": {},
   "outputs": [],
   "source": [
    "# set of teams (ideally home and away teams are the same)\n",
    "teams_set = set(games_df_raw['home_team']) and set(games_df_raw['away_team'])\n",
    "\n",
    "# auxiliar for the concat\n",
    "df_list = []\n",
    "\n",
    "# add a designed df for each team\n",
    "for team in teams_set:\n",
    "    \n",
    "    # select games played by the team\n",
    "    team_df = games_df[(games_df['home_team'] == team)|(games_df['away_team'] == team)].copy().reset_index()\n",
    "\n",
    "    # add a variable: focus team\n",
    "    team_df['focus_team'] = team\n",
    "\n",
    "    # add variable: status\n",
    "    team_df['focus_team_status'] = np.where(team_df['home_team'] == team,'home','away')\n",
    "\n",
    "    # add a variable: vs team\n",
    "    team_df['versus_team'] = np.where(team_df['home_team'] == team, team_df['away_team'], team_df['home_team'])\n",
    "\n",
    "    # add variables: winner\n",
    "    team_df['focus_team_score'] = np.where(team_df['focus_team_status'] == 'home', team_df['home_score'], team_df['away_score'])\n",
    "    team_df['versus_team_score'] = np.where(team_df['focus_team_status'] == 'away', team_df['home_score'], team_df['away_score'])\n",
    "    team_df['winner'] = np.where(team_df['focus_team_score'] > team_df['versus_team_score'],1,0)\n",
    "\n",
    "    # add variables: coaches\n",
    "    team_df['focus_team_coach'] = np.where(team_df['focus_team_status'] == 'home', team_df['home_coach'], team_df['away_coach'])\n",
    "    team_df['versus_team_coach'] = np.where(team_df['focus_team_status'] == 'away', team_df['home_coach'], team_df['away_coach'])\n",
    "\n",
    "    # selection of columns\n",
    "    team_df = team_df[['game_id', 'focus_team', 'focus_team_status', 'versus_team', \n",
    "                       'focus_team_score', 'versus_team_score', 'winner',\n",
    "                       'season', 'game_type', 'gameday', 'gametime']]\n",
    "    \n",
    "    # add columns with info of last ten games\n",
    "    for i in range(10,len(team_df)):\n",
    "        team_df.loc[i,'focus_team_ltg_wins'] = sum(team_df.loc[range(i-10,i),'winner'])\n",
    "        team_df.loc[i,'focus_team_ltg_score'] = sum(team_df.loc[range(i-10,i),'focus_team_score'])\n",
    "    \n",
    "    # append new df in the list\n",
    "    team_df = df_list.append(team_df)\n",
    "\n",
    "# concat all dataframes\n",
    "focused_df = pd.concat(df_list).reset_index(drop=True)\n",
    "\n",
    "# get versus team last ten games wins by merging df with itself\n",
    "focused_df = pd.merge(\n",
    "    focused_df,\n",
    "    focused_df[['game_id','focus_team','focus_team_ltg_wins']],\n",
    "    how = 'left',\n",
    "    left_on = ['game_id', 'versus_team'],\n",
    "    right_on = ['game_id','focus_team']\n",
    ")\n",
    "\n",
    "# get versus team last ten games score by merging df with itself\n",
    "focused_df = pd.merge(\n",
    "    focused_df,\n",
    "    focused_df[['game_id','focus_team_x','focus_team_ltg_score']],\n",
    "    how = 'left',\n",
    "    left_on = ['game_id', 'versus_team'],\n",
    "    right_on = ['game_id','focus_team_x']\n",
    ")\n",
    "\n",
    "# drop and rename columns generated by merge\n",
    "focused_df = focused_df.drop(columns=['focus_team_y','focus_team_x_y'])\n",
    "focused_df = focused_df.rename(columns = {\n",
    "    'focus_team_x_x':'focus_team',\n",
    "    'focus_team_ltg_wins_x':'focus_team_ltg_wins',\n",
    "    'focus_team_ltg_score_x':'focus_team_ltg_score',\n",
    "    'focus_team_ltg_wins_y':'versus_team_ltg_wins',\n",
    "    'focus_team_ltg_score_y':'versus_team_ltg_score'\n",
    "})\n",
    "\n",
    "# drop games with null values\n",
    "focused_df = focused_df.dropna(\n",
    "    subset=['focus_team_ltg_wins','focus_team_ltg_score','versus_team_ltg_wins','versus_team_ltg_score']\n",
    ").reset_index(drop=True)\n",
    "\n",
    "# get config\n",
    "with open(config_path, 'r') as f:\n",
    "    config = yaml.safe_load(f)\n",
    "\n",
    "# select section of config\n",
    "validation_config = config['data_preprocessing']\n",
    "\n",
    "# categorize gametime into day periods\n",
    "focused_df['day_period'] = pd.cut(\n",
    "    focused_df['gametime'].str.slice(0,2).astype(int),\n",
    "    bins=validation_config['hour_bins'],\n",
    "    labels=validation_config['hour_labels']\n",
    ")"
   ]
  },
  {
   "cell_type": "markdown",
   "id": "7",
   "metadata": {},
   "source": [
    "step 4: some graphs"
   ]
  },
  {
   "cell_type": "code",
   "execution_count": null,
   "id": "8",
   "metadata": {},
   "outputs": [],
   "source": [
    "sns.pairplot(\n",
    "    focused_df,\n",
    "    vars=['focus_team_ltg_wins','focus_team_ltg_score', 'versus_team_ltg_wins','versus_team_ltg_score']\n",
    ")"
   ]
  },
  {
   "cell_type": "code",
   "execution_count": null,
   "id": "9",
   "metadata": {},
   "outputs": [],
   "source": [
    "sns.histplot(\n",
    "    data = focused_df['gametime'].str.replace(':','').astype(int),\n",
    "    kde=True\n",
    ")"
   ]
  },
  {
   "cell_type": "markdown",
   "id": "10",
   "metadata": {},
   "source": [
    "step 5: final dataframe info"
   ]
  },
  {
   "cell_type": "code",
   "execution_count": null,
   "id": "11",
   "metadata": {},
   "outputs": [],
   "source": [
    "focused_df.info()"
   ]
  }
 ],
 "metadata": {
  "kernelspec": {
   "display_name": ".venv",
   "language": "python",
   "name": "python3"
  },
  "language_info": {
   "codemirror_mode": {
    "name": "ipython",
    "version": 3
   },
   "file_extension": ".py",
   "mimetype": "text/x-python",
   "name": "python",
   "nbconvert_exporter": "python",
   "pygments_lexer": "ipython3",
   "version": "3.12.0"
  }
 },
 "nbformat": 4,
 "nbformat_minor": 5
}
